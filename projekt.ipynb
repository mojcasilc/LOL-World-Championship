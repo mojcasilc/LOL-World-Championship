{
 "cells": [
  {
   "cell_type": "code",
   "execution_count": 24,
   "metadata": {},
   "outputs": [],
   "source": [
    "import pandas as pd \n",
    "from pandas.api.types import CategoricalDtype"
   ]
  },
  {
   "cell_type": "code",
   "execution_count": 31,
   "metadata": {},
   "outputs": [
    {
     "name": "stderr",
     "output_type": "stream",
     "text": [
      "C:\\Users\\Mojca\\AppData\\Local\\Temp\\ipykernel_33584\\3039018404.py:3: DtypeWarning: Columns (2) have mixed types. Specify dtype option on import or set low_memory=False.\n",
      "  podatki = pd.read_csv(f\"{leto}_LoL_esports_match_data_from_OraclesElixir.csv\")\n",
      "C:\\Users\\Mojca\\AppData\\Local\\Temp\\ipykernel_33584\\3039018404.py:3: DtypeWarning: Columns (2) have mixed types. Specify dtype option on import or set low_memory=False.\n",
      "  podatki = pd.read_csv(f\"{leto}_LoL_esports_match_data_from_OraclesElixir.csv\")\n"
     ]
    }
   ],
   "source": [
    "seznam = []\n",
    "for leto in range(2014, 2024):\n",
    "    podatki = pd.read_csv(f\"{leto}_LoL_esports_match_data_from_OraclesElixir.csv\")\n",
    "    podatki = podatki[['gameid', 'league', 'year', 'date', 'game', 'side', 'position', 'playername', 'teamname', 'champion', 'ban1', 'ban2', 'ban3','gamelength', 'result', 'kills', 'deaths', 'assists', 'teamkills', 'teamdeaths', 'doublekills', 'triplekills', 'quadrakills', 'pentakills', 'firstbloodkill', 'firstbloodvictim']] \n",
    "    podatki = podatki[(podatki['league']==\"WLDs\") | (podatki['league']==\"MSI\")] #izberemo uporabne podatke\n",
    "    podatki = podatki[((podatki['position'])!=\"team\")]\n",
    "    seznam.append(podatki)\n",
    "celota = pd.concat(seznam, ignore_index=True)\n",
    "celota.league = celota.league.astype(CategoricalDtype(celota.league.drop_duplicates()))\n",
    "celota.side = celota.side.astype(CategoricalDtype(celota.side.drop_duplicates()))\n",
    "celota.position = celota.position.astype(CategoricalDtype(celota.position.drop_duplicates()))\n",
    "celota.to_csv('lol.csv', index=False) #podatkovno tabelo zapisemo v datoteko"
   ]
  }
 ],
 "metadata": {
  "kernelspec": {
   "display_name": "Python 3",
   "language": "python",
   "name": "python3"
  },
  "language_info": {
   "codemirror_mode": {
    "name": "ipython",
    "version": 3
   },
   "file_extension": ".py",
   "mimetype": "text/x-python",
   "name": "python",
   "nbconvert_exporter": "python",
   "pygments_lexer": "ipython3",
   "version": "3.11.7"
  }
 },
 "nbformat": 4,
 "nbformat_minor": 2
}
