{
 "cells": [
  {
   "cell_type": "code",
   "execution_count": 1,
   "metadata": {},
   "outputs": [],
   "source": [
    "import pandas as pd \n",
    "from pandas.api.types import CategoricalDtype"
   ]
  },
  {
   "cell_type": "code",
   "execution_count": 2,
   "metadata": {},
   "outputs": [],
   "source": [
    "seznam = []\n",
    "for leto in range(2014, 2024):\n",
    "    podatki = pd.read_csv(f\"{leto}_LoL_esports_match_data_from_OraclesElixir.csv\", low_memory=False)\n",
    "    podatki = podatki[['gameid', 'league', 'year', 'date', 'game', 'side', 'position', 'playername', 'teamname', 'champion', 'result']] \n",
    "    podatki = podatki[(podatki['league']==\"WLDs\") | (podatki['league']==\"MSI\")] #izberemo uporabne podatke\n",
    "    podatki = podatki[((podatki['position'])!=\"team\")]\n",
    "    seznam.append(podatki)\n",
    "celota = pd.concat(seznam, ignore_index=True)\n",
    "celota.league = celota.league.astype(CategoricalDtype(celota.league.drop_duplicates()))\n",
    "celota.side = celota.side.astype(CategoricalDtype(celota.side.drop_duplicates()))\n",
    "celota.position = celota.position.astype(CategoricalDtype(celota.position.drop_duplicates()))\n",
    "\n",
    "###dodaj regije\n",
    "#regija = celota[[]]\n",
    "###dodaj kraj tekmovanja\n",
    "\n",
    "ekipe = celota[['teamname']]\n",
    "igralci = celota[['playername', 'position']]\n",
    "tekmovanje = celota[['league', 'year']]\n",
    "pripada = celota[['year', 'teamname', 'playername']]\n",
    "nastop = celota[['teamname', 'league', 'year', 'result']]\n",
    "\n",
    "celota.to_csv('lol.csv', index=False) #podatkovno tabelo zapisemo v datoteko\n"
   ]
  }
 ],
 "metadata": {
  "kernelspec": {
   "display_name": "Python 3",
   "language": "python",
   "name": "python3"
  },
  "language_info": {
   "codemirror_mode": {
    "name": "ipython",
    "version": 3
   },
   "file_extension": ".py",
   "mimetype": "text/x-python",
   "name": "python",
   "nbconvert_exporter": "python",
   "pygments_lexer": "ipython3",
   "version": "3.11.4"
  }
 },
 "nbformat": 4,
 "nbformat_minor": 2
}
